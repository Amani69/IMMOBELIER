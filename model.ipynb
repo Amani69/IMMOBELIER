{
 "cells": [
  {
   "cell_type": "code",
   "execution_count": 1,
   "id": "ae3ff0fa",
   "metadata": {},
   "outputs": [],
   "source": [
    "# Imports \n",
    "from sklearn import metrics\n",
    "import numpy as np\n",
    "import pandas as pd\n",
    "import matplotlib.pyplot as plt\n",
    "import seaborn as sns\n",
    "from numpy import nan\n",
    "from numpy import isnan\n",
    "from sklearn.decomposition import PCA\n",
    "from sklearn.preprocessing import LabelEncoder\n",
    "from sklearn.linear_model import LinearRegression \n",
    "from sklearn.model_selection import train_test_split\n",
    "from sklearn.model_selection import cross_validate\n",
    "from sklearn.model_selection import cross_val_score\n",
    "from sklearn.model_selection import cross_val_predict\n",
    "from sklearn.preprocessing import LabelEncoder\n",
    "from sklearn.preprocessing import StandardScaler\n",
    "from sklearn.linear_model import SGDClassifier\n",
    "from sklearn.feature_selection import SelectFromModel\n",
    "from sklearn.linear_model import LogisticRegression\n",
    "from sklearn.pipeline import make_pipeline\n",
    "\n",
    "from sklearn.linear_model import LogisticRegression\n",
    "from sklearn.dummy import DummyClassifier\n",
    "from sklearn.neighbors import KNeighborsClassifier\n",
    "\n",
    "from sklearn.metrics import accuracy_score, precision_score, recall_score, f1_score, \\\n",
    "    confusion_matrix, classification_report\n",
    "\n",
    "from sklearn.metrics import roc_auc_score, plot_roc_curve, roc_curve\n",
    "from sklearn.metrics import average_precision_score\n",
    "from sklearn.metrics import precision_recall_curve,plot_precision_recall_curve\n",
    "\n",
    "from sklearn.model_selection import learning_curve\n",
    "\n",
    "from statsmodels.stats.outliers_influence import variance_inflation_factor as vif\n",
    "\n",
    "from sklearn.inspection import permutation_importance"
   ]
  },
  {
   "cell_type": "code",
   "execution_count": 2,
   "id": "938d8d31",
   "metadata": {},
   "outputs": [
    {
     "name": "stdout",
     "output_type": "stream",
     "text": [
      "valeurs manquantes True\n",
      "nombre de valeurs manquantes apres 176\n",
      "valeurs manquantes apres False\n",
      "nombre de valeurs manquantes apres 0\n"
     ]
    }
   ],
   "source": [
    "#mettre une liste pour les valeurs manquante\n",
    "missing_values = [\"n/a\", \"na\", \"--\",\"-1\", \"00\",\"nan\",\"NAN\",\"NON\",\"non\"]\n",
    "data_df=pd.read_csv(\"C:/Users/User/Desktop/proj_indiv_immoblier_septembre/train_data.csv\",na_values = missing_values)\n",
    "#supprimer la colonne unnamed\n",
    "data_df.drop(data_df.columns[0],axis=1,inplace=True)\n",
    "print('valeurs manquantes',data_df.isnull().values.any())\n",
    "print('nombre de valeurs manquantes apres',data_df.isnull().sum().sum())\n",
    "data_df=data_df.dropna()\n",
    "data_df=data_df.drop_duplicates()\n",
    "print('valeurs manquantes apres',data_df.isnull().values.any())\n",
    "print('nombre de valeurs manquantes apres',data_df.isnull().sum().sum())"
   ]
  },
  {
   "cell_type": "code",
   "execution_count": 3,
   "id": "2169a459",
   "metadata": {},
   "outputs": [
    {
     "data": {
      "text/html": [
       "<div>\n",
       "<style scoped>\n",
       "    .dataframe tbody tr th:only-of-type {\n",
       "        vertical-align: middle;\n",
       "    }\n",
       "\n",
       "    .dataframe tbody tr th {\n",
       "        vertical-align: top;\n",
       "    }\n",
       "\n",
       "    .dataframe thead th {\n",
       "        text-align: right;\n",
       "    }\n",
       "</style>\n",
       "<table border=\"1\" class=\"dataframe\">\n",
       "  <thead>\n",
       "    <tr style=\"text-align: right;\">\n",
       "      <th></th>\n",
       "      <th>longitude</th>\n",
       "      <th>latitude</th>\n",
       "      <th>housing_median_age</th>\n",
       "      <th>total_rooms</th>\n",
       "      <th>total_bedrooms</th>\n",
       "      <th>population</th>\n",
       "      <th>households</th>\n",
       "      <th>median_income</th>\n",
       "      <th>median_house_value</th>\n",
       "      <th>ocean_proximity</th>\n",
       "    </tr>\n",
       "  </thead>\n",
       "  <tbody>\n",
       "    <tr>\n",
       "      <th>0</th>\n",
       "      <td>-119.84</td>\n",
       "      <td>36.77</td>\n",
       "      <td>6.0</td>\n",
       "      <td>1853.0</td>\n",
       "      <td>473.0</td>\n",
       "      <td>1397.0</td>\n",
       "      <td>417.0</td>\n",
       "      <td>1.4817</td>\n",
       "      <td>72000.0</td>\n",
       "      <td>INLAND</td>\n",
       "    </tr>\n",
       "    <tr>\n",
       "      <th>1</th>\n",
       "      <td>-117.80</td>\n",
       "      <td>33.68</td>\n",
       "      <td>8.0</td>\n",
       "      <td>2032.0</td>\n",
       "      <td>349.0</td>\n",
       "      <td>862.0</td>\n",
       "      <td>340.0</td>\n",
       "      <td>6.9133</td>\n",
       "      <td>274100.0</td>\n",
       "      <td>&lt;1H OCEAN</td>\n",
       "    </tr>\n",
       "    <tr>\n",
       "      <th>2</th>\n",
       "      <td>-120.19</td>\n",
       "      <td>36.60</td>\n",
       "      <td>25.0</td>\n",
       "      <td>875.0</td>\n",
       "      <td>214.0</td>\n",
       "      <td>931.0</td>\n",
       "      <td>214.0</td>\n",
       "      <td>1.5536</td>\n",
       "      <td>58300.0</td>\n",
       "      <td>INLAND</td>\n",
       "    </tr>\n",
       "    <tr>\n",
       "      <th>3</th>\n",
       "      <td>-118.32</td>\n",
       "      <td>34.10</td>\n",
       "      <td>31.0</td>\n",
       "      <td>622.0</td>\n",
       "      <td>229.0</td>\n",
       "      <td>597.0</td>\n",
       "      <td>227.0</td>\n",
       "      <td>1.5284</td>\n",
       "      <td>200000.0</td>\n",
       "      <td>&lt;1H OCEAN</td>\n",
       "    </tr>\n",
       "    <tr>\n",
       "      <th>4</th>\n",
       "      <td>-121.23</td>\n",
       "      <td>37.79</td>\n",
       "      <td>21.0</td>\n",
       "      <td>1922.0</td>\n",
       "      <td>373.0</td>\n",
       "      <td>1130.0</td>\n",
       "      <td>372.0</td>\n",
       "      <td>4.0815</td>\n",
       "      <td>117900.0</td>\n",
       "      <td>INLAND</td>\n",
       "    </tr>\n",
       "  </tbody>\n",
       "</table>\n",
       "</div>"
      ],
      "text/plain": [
       "   longitude  latitude  housing_median_age  total_rooms  total_bedrooms  \\\n",
       "0    -119.84     36.77                 6.0       1853.0           473.0   \n",
       "1    -117.80     33.68                 8.0       2032.0           349.0   \n",
       "2    -120.19     36.60                25.0        875.0           214.0   \n",
       "3    -118.32     34.10                31.0        622.0           229.0   \n",
       "4    -121.23     37.79                21.0       1922.0           373.0   \n",
       "\n",
       "   population  households  median_income  median_house_value ocean_proximity  \n",
       "0      1397.0       417.0         1.4817             72000.0          INLAND  \n",
       "1       862.0       340.0         6.9133            274100.0       <1H OCEAN  \n",
       "2       931.0       214.0         1.5536             58300.0          INLAND  \n",
       "3       597.0       227.0         1.5284            200000.0       <1H OCEAN  \n",
       "4      1130.0       372.0         4.0815            117900.0          INLAND  "
      ]
     },
     "execution_count": 3,
     "metadata": {},
     "output_type": "execute_result"
    }
   ],
   "source": [
    "data=data_df.copy()\n",
    "data.head()"
   ]
  },
  {
   "cell_type": "code",
   "execution_count": 4,
   "id": "c0199fd9",
   "metadata": {},
   "outputs": [],
   "source": [
    "# Splitting the data\n",
    "trainset, testset = train_test_split(data,  test_size=.3,random_state=1)"
   ]
  },
  {
   "cell_type": "code",
   "execution_count": 5,
   "id": "f7130f1b",
   "metadata": {},
   "outputs": [
    {
     "data": {
      "text/plain": [
       "0.04386859824525607"
      ]
     },
     "execution_count": 5,
     "metadata": {},
     "output_type": "execute_result"
    }
   ],
   "source": [
    "X=trainset.drop(['median_house_value'],axis=1)\n",
    "y=trainset[\"median_house_value\"]\n",
    "X_test=testset.drop(['median_house_value'],axis=1)\n",
    "y_test=testset[\"median_house_value\"]\n",
    "dummy_clf = DummyClassifier(strategy=\"most_frequent\")\n",
    "# fit the modem\n",
    "dummy_clf.fit(X,y)\n",
    "# calculate the score\n",
    "dummy_clf.score(X_test, y_test)"
   ]
  },
  {
   "cell_type": "markdown",
   "id": "475ce270",
   "metadata": {},
   "source": [
    "# 1 er iteration"
   ]
  },
  {
   "cell_type": "code",
   "execution_count": 48,
   "id": "2fe09510",
   "metadata": {},
   "outputs": [
    {
     "name": "stdout",
     "output_type": "stream",
     "text": [
      "R2 0.6455188340616562\n",
      "MSE 4754242410.964536\n",
      "RMSE 68951.01457530944\n",
      "MAE 50892.35884065842\n"
     ]
    },
    {
     "name": "stderr",
     "output_type": "stream",
     "text": [
      "<ipython-input-48-dda6b7e9d9ee>:2: SettingWithCopyWarning: \n",
      "A value is trying to be set on a copy of a slice from a DataFrame.\n",
      "Try using .loc[row_indexer,col_indexer] = value instead\n",
      "\n",
      "See the caveats in the documentation: https://pandas.pydata.org/pandas-docs/stable/user_guide/indexing.html#returning-a-view-versus-a-copy\n",
      "  trainset[\"ocean_proximity\"]=encodeur.fit_transform(trainset[\"ocean_proximity\"])\n",
      "<ipython-input-48-dda6b7e9d9ee>:3: SettingWithCopyWarning: \n",
      "A value is trying to be set on a copy of a slice from a DataFrame.\n",
      "Try using .loc[row_indexer,col_indexer] = value instead\n",
      "\n",
      "See the caveats in the documentation: https://pandas.pydata.org/pandas-docs/stable/user_guide/indexing.html#returning-a-view-versus-a-copy\n",
      "  testset[\"ocean_proximity\"]=encodeur.transform(testset[\"ocean_proximity\"])\n"
     ]
    }
   ],
   "source": [
    "encodeur = LabelEncoder()\n",
    "trainset[\"ocean_proximity\"]=encodeur.fit_transform(trainset[\"ocean_proximity\"])\n",
    "testset[\"ocean_proximity\"]=encodeur.transform(testset[\"ocean_proximity\"])\n",
    "\n",
    "standscaler=StandardScaler()\n",
    "standscaler.fit(trainset).transform(trainset)\n",
    "standscaler.transform(testset)\n",
    "\n",
    "X=trainset.drop(['median_house_value'],axis=1)\n",
    "y=trainset[\"median_house_value\"]\n",
    "X_test=testset.drop(['median_house_value'],axis=1)\n",
    "y_test=testset[\"median_house_value\"]\n",
    "\n",
    "reg = LinearRegression()\n",
    "reg.fit(X,y)\n",
    "print(\"R2\",reg.score(X_test, y_test))\n",
    "ypred=reg.predict(X_test)\n",
    "print(\"MSE\",metrics.mean_squared_error(y_test,ypred))\n",
    "print(\"RMSE\",np.sqrt(metrics.mean_squared_error(y_test,ypred)))\n",
    "print(\"MAE\",metrics.mean_absolute_error(y_test,ypred))\n",
    "#metrics.r2_score(y_test,ypred)"
   ]
  },
  {
   "cell_type": "code",
   "execution_count": 49,
   "id": "2fd7ed0a",
   "metadata": {},
   "outputs": [
    {
     "data": {
      "text/plain": [
       "0.6455911623958603"
      ]
     },
     "execution_count": 49,
     "metadata": {},
     "output_type": "execute_result"
    }
   ],
   "source": [
    "var_test = y_test.var()\n",
    "var_test\n",
    "mse=metrics.mean_squared_error(y_test,ypred)\n",
    "Adj_rsquare = 1-(mse/var_test)\n",
    "Adj_rsquare"
   ]
  },
  {
   "cell_type": "code",
   "execution_count": 50,
   "id": "f4a1d996",
   "metadata": {},
   "outputs": [
    {
     "data": {
      "text/plain": [
       "Text(0, 0.5, 'Residual')"
      ]
     },
     "execution_count": 50,
     "metadata": {},
     "output_type": "execute_result"
    },
    {
     "data": {
      "image/png": "[encoded data removed]",
      "text/plain": [
       "<Figure size 432x288 with 1 Axes>"
      ]
     },
     "metadata": {
      "needs_background": "light"
     },
     "output_type": "display_data"
    }
   ],
   "source": [
    "plt.scatter(ypred,(y_test-ypred),marker='^')\n",
    "plt.xlabel(\"Fitted\")\n",
    "plt.ylabel(\"Residual\")"
   ]
  },
  {
   "cell_type": "code",
   "execution_count": null,
   "id": "918fe2b7",
   "metadata": {},
   "outputs": [],
   "source": []
  },
  {
   "cell_type": "code",
   "execution_count": 51,
   "id": "3cc1643d",
   "metadata": {},
   "outputs": [],
   "source": [
    "#le model n'est pas bon il faut l'ameliorer"
   ]
  },
  {
   "cell_type": "markdown",
   "id": "84f66166",
   "metadata": {},
   "source": [
    "# 2 eme iteration\n",
    "J'ai choisi le modèle DecisionTreeRegressor car il est assez facile à comprendre et ressemble en quelque sorte au processus de prise de décision général."
   ]
  },
  {
   "cell_type": "code",
   "execution_count": null,
   "id": "b4569c5b",
   "metadata": {},
   "outputs": [],
   "source": []
  },
  {
   "cell_type": "code",
   "execution_count": 52,
   "id": "363d9f05",
   "metadata": {},
   "outputs": [
    {
     "name": "stdout",
     "output_type": "stream",
     "text": [
      "avant le discretizer le score est 0.7264776529479647\n",
      "MSE 3668436203.8222594\n",
      "RMSE 60567.61679166731\n",
      "MAE 40494.03429565394\n"
     ]
    }
   ],
   "source": [
    "from sklearn.preprocessing import KBinsDiscretizer\n",
    "from sklearn.tree import DecisionTreeRegressor\n",
    "reg = DecisionTreeRegressor(min_samples_split=100, random_state=10).fit(X, y)\n",
    "print(\"avant le discretizer le score est\",reg.score(X_test,y_test))\n",
    "ypred=reg.predict(X_test)\n",
    "print(\"MSE\",metrics.mean_squared_error(y_test,ypred))\n",
    "print(\"RMSE\",np.sqrt(metrics.mean_squared_error(y_test,ypred)))\n",
    "print(\"MAE\",metrics.mean_absolute_error(y_test,ypred))\n"
   ]
  },
  {
   "cell_type": "code",
   "execution_count": 53,
   "id": "9c31dff0",
   "metadata": {},
   "outputs": [],
   "source": [
    "import pickle\n",
    "\n",
    "with open(\"reg.pkl\", \"wb\") as file:\n",
    "    pickle.dump(reg, file)"
   ]
  },
  {
   "cell_type": "code",
   "execution_count": 54,
   "id": "3bcb9923",
   "metadata": {},
   "outputs": [],
   "source": [
    "my_model = pickle.load(open(\"reg.pkl\",\"rb\"))"
   ]
  },
  {
   "cell_type": "code",
   "execution_count": 55,
   "id": "9941b2c4",
   "metadata": {},
   "outputs": [
    {
     "data": {
      "text/plain": [
       "0.7264776529479647"
      ]
     },
     "execution_count": 55,
     "metadata": {},
     "output_type": "execute_result"
    }
   ],
   "source": [
    "my_model.score(X_test,y_test)"
   ]
  },
  {
   "cell_type": "markdown",
   "id": "1de0d2bd",
   "metadata": {},
   "source": [
    "# 3 eme iteration\n"
   ]
  },
  {
   "cell_type": "code",
   "execution_count": 11,
   "id": "76a8fac3",
   "metadata": {},
   "outputs": [
    {
     "name": "stderr",
     "output_type": "stream",
     "text": [
      "C:\\Users\\User\\Anaconda3\\lib\\site-packages\\sklearn\\preprocessing\\_discretization.py:220: UserWarning: Bins whose width are too small (i.e., <= 1e-8) in feature 8 are removed. Consider decreasing the number of bins.\n",
      "  warnings.warn('Bins whose width are too small (i.e., <= '\n"
     ]
    },
    {
     "name": "stdout",
     "output_type": "stream",
     "text": [
      "apres le discretizer le score est 0.6907059988352593\n",
      "MSE 3668436203.8222594\n",
      "RMSE 60567.61679166731\n",
      "MAE 40494.03429565394\n"
     ]
    }
   ],
   "source": [
    "from sklearn.preprocessing import KBinsDiscretizer\n",
    "from sklearn.tree import DecisionTreeRegressor\n",
    "enc = KBinsDiscretizer(n_bins=10, encode='onehot')\n",
    "X_binned = enc.fit_transform(X)\n",
    "X_test_binned = enc.transform(X_test)\n",
    "DTR= DecisionTreeRegressor(min_samples_split=100,random_state=0).fit(X_binned, y)\n",
    "print(\"apres le discretizer le score est\",DTR.score(X_test_binned,y_test))\n",
    "ypred=reg.predict(X_test)\n",
    "print(\"MSE\",metrics.mean_squared_error(y_test,ypred))\n",
    "print(\"RMSE\",np.sqrt(metrics.mean_squared_error(y_test,ypred)))\n",
    "print(\"MAE\",metrics.mean_absolute_error(y_test,ypred))\n"
   ]
  },
  {
   "cell_type": "markdown",
   "id": "ef8d9c33",
   "metadata": {},
   "source": [
    "# 4 eme iteration"
   ]
  },
  {
   "cell_type": "code",
   "execution_count": 12,
   "id": "8d659caa",
   "metadata": {},
   "outputs": [
    {
     "data": {
      "text/plain": [
       "0.8821118886070142"
      ]
     },
     "execution_count": 12,
     "metadata": {},
     "output_type": "execute_result"
    }
   ],
   "source": [
    "X=trainset.drop(['median_house_value'],axis=1)\n",
    "y=trainset[\"median_house_value\"]\n",
    "X_test=testset.drop(['median_house_value'],axis=1)\n",
    "y_test=testset[\"median_house_value\"]\n",
    "from sklearn.tree import DecisionTreeRegressor\n",
    "std=StandardScaler()\n",
    "X= std.fit_transform(X) \n",
    "X_test = std.transform(X_test) \n",
    "pca = PCA(n_components=4)\n",
    "X = pca.fit_transform(X)\n",
    "X_test = pca.transform(X_test)\n",
    "pca.explained_variance_ratio_.sum()\n"
   ]
  },
  {
   "cell_type": "code",
   "execution_count": 13,
   "id": "9e56fda2",
   "metadata": {},
   "outputs": [
    {
     "data": {
      "text/plain": [
       "0.6455188340616469"
      ]
     },
     "execution_count": 13,
     "metadata": {},
     "output_type": "execute_result"
    }
   ],
   "source": [
    "\n",
    "X=trainset.drop(['median_house_value'],axis=1)\n",
    "y=trainset[\"median_house_value\"]\n",
    "X_test=testset.drop(['median_house_value'],axis=1)\n",
    "y_test=testset[\"median_house_value\"]\n",
    "\n",
    "model=make_pipeline(StandardScaler(), LinearRegression())\n",
    "model.fit(X,y)\n",
    "model.score(X_test,y_test)"
   ]
  },
  {
   "cell_type": "code",
   "execution_count": 14,
   "id": "5630ed6c",
   "metadata": {},
   "outputs": [
    {
     "data": {
      "text/plain": [
       "0.7287459277221046"
      ]
     },
     "execution_count": 14,
     "metadata": {},
     "output_type": "execute_result"
    }
   ],
   "source": [
    "X=trainset.drop(['median_house_value'],axis=1)\n",
    "y=trainset[\"median_house_value\"]\n",
    "X_test=testset.drop(['median_house_value'],axis=1)\n",
    "y_test=testset[\"median_house_value\"]\n",
    "\n",
    "model=make_pipeline(StandardScaler(), DecisionTreeRegressor(min_samples_split=100,random_state=0))\n",
    "model.fit(X,y)\n",
    "model.score(X_test,y_test)"
   ]
  },
  {
   "cell_type": "code",
   "execution_count": 15,
   "id": "0bda58a9",
   "metadata": {},
   "outputs": [
    {
     "name": "stdout",
     "output_type": "stream",
     "text": [
      "[Pipeline] ............... (step 1 of 3) Processing pca, total=   0.0s\n",
      "[Pipeline] ............... (step 2 of 3) Processing std, total=   0.0s\n",
      "[Pipeline] ..... (step 3 of 3) Processing decision_tree, total=   7.8s\n",
      "0.014894919404203224\n"
     ]
    }
   ],
   "source": [
    "\n",
    "\n",
    "from sklearn.model_selection import train_test_split\n",
    "from sklearn.preprocessing import StandardScaler\n",
    "from sklearn.decomposition import PCA\n",
    "from sklearn.tree import DecisionTreeClassifier\n",
    "\n",
    "X=trainset.drop(['median_house_value'],axis=1)\n",
    "y=trainset[\"median_house_value\"]\n",
    "X_test=testset.drop(['median_house_value'],axis=1)\n",
    "y_test=testset[\"median_house_value\"]\n",
    "\n",
    "# importing pipes for making the Pipe flow\n",
    "from sklearn.pipeline import Pipeline\n",
    "# pipe flow is :\n",
    "# PCA(Dimension reduction to two) -> Scaling the data -> DecisionTreeClassification\n",
    "pipe = Pipeline([('pca', PCA(n_components = 4)), ('std', StandardScaler()), ('decision_tree', DecisionTreeClassifier())], verbose = True)\n",
    " \n",
    "# fitting the data in the pipe\n",
    "pipe.fit(X, y)\n",
    " \n",
    "# scoring data\n",
    "from sklearn.metrics import accuracy_score\n",
    "print(accuracy_score(y_test, pipe.predict(X_test)))"
   ]
  },
  {
   "cell_type": "code",
   "execution_count": 39,
   "id": "304a5e73",
   "metadata": {},
   "outputs": [],
   "source": [
    "#X=trainset.drop(['median_house_value'],axis=1)\n",
    "X=trainset[[\"median_income\",\"households\",\"total_rooms\"]]\n",
    "y=trainset[\"median_house_value\"]\n",
    "#X_test=testset.drop(['median_house_value'],axis=1)\n",
    "X_test=testset[[\"median_income\",\"households\",\"total_rooms\"]]\n",
    "y_test=testset[\"median_house_value\"]\n",
    "from sklearn.preprocessing import PolynomialFeatures\n",
    "\n",
    "def evalPolynonmialRegression(degree):\n",
    "    #entrainement du modèle\n",
    "    polynomial_features= PolynomialFeatures(degree=degree)\n",
    "    X_train_poly = polynomial_features.fit_transform(X)\n",
    "    X_test_poly = polynomial_features.transform(X_test)\n",
    "    model = LinearRegression()\n",
    "    model.fit(X_train_poly,y)\n",
    "\n",
    " \n",
    "    # Evaluation du testing set\n",
    "    y_test_predict = model.predict(X_test_poly)\n",
    "    rmse = (np.sqrt(metrics.mean_squared_error(y_test, y_test_predict)))\n",
    "    r2 = metrics.r2_score(y_test, y_test_predict)\n",
    " \n",
    "    print('Lerreur quadratique moyenne est {}'.format(rmse))\n",
    "    print('le score R2 est {}'.format(r2))\n",
    "    return model,r2 ,rmse"
   ]
  },
  {
   "cell_type": "code",
   "execution_count": 40,
   "id": "e062cdf9",
   "metadata": {},
   "outputs": [
    {
     "name": "stdout",
     "output_type": "stream",
     "text": [
      "Lerreur quadratique moyenne est 163647.50145659084\n",
      "le score R2 est -0.9967817628045297\n"
     ]
    },
    {
     "data": {
      "text/plain": [
       "(LinearRegression(), -0.9967817628045297, 163647.50145659084)"
      ]
     },
     "execution_count": 40,
     "metadata": {},
     "output_type": "execute_result"
    }
   ],
   "source": [
    "evalPolynonmialRegression(5)"
   ]
  },
  {
   "cell_type": "code",
   "execution_count": 96,
   "id": "487ccb16",
   "metadata": {},
   "outputs": [
    {
     "name": "stdout",
     "output_type": "stream",
     "text": [
      "LinearRegression()\n",
      "score à l entraînement  0.5010487761867163\n",
      "r2 score  0.5021005421746387\n",
      "DecisionTreeRegressor(random_state=100)\n",
      "score à l entraînement  1.0\n",
      "r2 score  0.1555978048652239\n"
     ]
    },
    {
     "data": {
      "text/html": [
       "<div>\n",
       "<style scoped>\n",
       "    .dataframe tbody tr th:only-of-type {\n",
       "        vertical-align: middle;\n",
       "    }\n",
       "\n",
       "    .dataframe tbody tr th {\n",
       "        vertical-align: top;\n",
       "    }\n",
       "\n",
       "    .dataframe thead th {\n",
       "        text-align: right;\n",
       "    }\n",
       "</style>\n",
       "<table border=\"1\" class=\"dataframe\">\n",
       "  <thead>\n",
       "    <tr style=\"text-align: right;\">\n",
       "      <th></th>\n",
       "      <th>R2_Price</th>\n",
       "    </tr>\n",
       "    <tr>\n",
       "      <th>Model</th>\n",
       "      <th></th>\n",
       "    </tr>\n",
       "  </thead>\n",
       "  <tbody>\n",
       "    <tr>\n",
       "      <th>NaN</th>\n",
       "      <td>0.502101</td>\n",
       "    </tr>\n",
       "    <tr>\n",
       "      <th>DecisionTreeRegressor</th>\n",
       "      <td>0.155598</td>\n",
       "    </tr>\n",
       "  </tbody>\n",
       "</table>\n",
       "</div>"
      ],
      "text/plain": [
       "                       R2_Price \n",
       "Model                           \n",
       "NaN                     0.502101\n",
       "DecisionTreeRegressor   0.155598"
      ]
     },
     "execution_count": 96,
     "metadata": {},
     "output_type": "execute_result"
    }
   ],
   "source": []
  },
  {
   "cell_type": "code",
   "execution_count": null,
   "id": "53054995",
   "metadata": {},
   "outputs": [],
   "source": []
  },
  {
   "cell_type": "code",
   "execution_count": null,
   "id": "62c01b60",
   "metadata": {},
   "outputs": [],
   "source": []
  }
 ],
 "metadata": {
  "kernelspec": {
   "display_name": "Python 3",
   "language": "python",
   "name": "python3"
  },
  "language_info": {
   "codemirror_mode": {
    "name": "ipython",
    "version": 3
   },
   "file_extension": ".py",
   "mimetype": "text/x-python",
   "name": "python",
   "nbconvert_exporter": "python",
   "pygments_lexer": "ipython3",
   "version": "3.8.8"
  }
 },
 "nbformat": 4,
 "nbformat_minor": 5
}
